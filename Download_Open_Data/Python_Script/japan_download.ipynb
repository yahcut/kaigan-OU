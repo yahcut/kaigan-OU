{
 "cells": [
  {
   "cell_type": "code",
   "execution_count": 35,
   "id": "39f310bd",
   "metadata": {},
   "outputs": [],
   "source": [
    "\n",
    "import pandas as pd\n",
    "import geopandas as gpd\n",
    "import shapely.geometry\n",
    "import mercantile\n",
    "from tqdm import tqdm\n",
    "import os\n",
    "import tempfile\n",
    "import fiona"
   ]
  },
  {
   "cell_type": "code",
   "execution_count": 27,
   "id": "363de414",
   "metadata": {},
   "outputs": [],
   "source": [
    "#change coordinate here!!!!!!\n",
    "# Geometry copied from https://geojson.io\n",
    "aoi_geom = {\n",
    "    \"coordinates\": [\n",
    "          [\n",
    "            [\n",
    "              135.11293857373914,\n",
    "              34.75016415080408\n",
    "            ],\n",
    "            [\n",
    "              135.11293857373914,\n",
    "              34.60735967486704\n",
    "            ],\n",
    "            [\n",
    "              135.3967426187233,\n",
    "              34.60735967486704\n",
    "            ],\n",
    "            [\n",
    "              135.3967426187233,\n",
    "              34.75016415080408\n",
    "            ],\n",
    "            [\n",
    "              135.11293857373914,\n",
    "              34.75016415080408\n",
    "            ]\n",
    "          ]\n",
    "        ],\n",
    "        \"type\": \"Polygon\"\n",
    "}\n",
    "aoi_shape = shapely.geometry.shape(aoi_geom)\n",
    "minx, miny, maxx, maxy = aoi_shape.bounds\n",
    "\n",
    "output_fn = \"example_building_footprints.geojson\"\n"
   ]
  },
  {
   "cell_type": "code",
   "execution_count": 28,
   "id": "6333f1da",
   "metadata": {},
   "outputs": [
    {
     "name": "stdout",
     "output_type": "stream",
     "text": [
      "The input area spans 1 tiles: [133002022]\n"
     ]
    }
   ],
   "source": [
    "quad_keys = set()\n",
    "for tile in list(mercantile.tiles(minx, miny, maxx, maxy, zooms=9)):\n",
    "    quad_keys.add(int(mercantile.quadkey(tile)))\n",
    "quad_keys = list(quad_keys)\n",
    "print(f\"The input area spans {len(quad_keys)} tiles: {quad_keys}\")"
   ]
  },
  {
   "cell_type": "code",
   "execution_count": 29,
   "id": "d9922507",
   "metadata": {},
   "outputs": [
    {
     "name": "stderr",
     "output_type": "stream",
     "text": [
      "100%|███████████████████████████████████████████████████████████████████████████████████| 1/1 [10:15<00:00, 615.55s/it]\n",
      "100%|█████████████████████████████████████████████████████████████████████| 2217228/2217228 [03:26<00:00, 10746.57it/s]\n"
     ]
    }
   ],
   "source": [
    "df = pd.read_csv(\n",
    "    \"https://minedbuildings.blob.core.windows.net/global-buildings/dataset-links.csv\"\n",
    ")\n",
    "\n",
    "idx = 0\n",
    "combined_rows = []\n",
    "\n",
    "with tempfile.TemporaryDirectory() as tmpdir:\n",
    "    # Download the GeoJSON files for each tile that intersects the input geometry\n",
    "    tmp_fns = []\n",
    "    for quad_key in tqdm(quad_keys):\n",
    "        rows = df[df[\"QuadKey\"] == quad_key]\n",
    "        if rows.shape[0] == 1:\n",
    "            url = rows.iloc[0][\"Url\"]\n",
    "\n",
    "            df2 = pd.read_json(url, lines=True)\n",
    "            df2[\"geometry\"] = df2[\"geometry\"].apply(shapely.geometry.shape)\n",
    "\n",
    "            gdf = gpd.GeoDataFrame(df2, crs=4326)\n",
    "            fn = os.path.join(tmpdir, f\"{quad_key}.geojson\")\n",
    "            tmp_fns.append(fn)\n",
    "            if not os.path.exists(fn):\n",
    "                gdf.to_file(fn, driver=\"GeoJSON\")\n",
    "        elif rows.shape[0] >= 1:\n",
    "            row = rows.iloc[1] # Select the first row\n",
    "            url = row[\"Url\"]\n",
    "\n",
    "            df2 = pd.read_json(url, lines=True)\n",
    "            df2[\"geometry\"] = df2[\"geometry\"].apply(shapely.geometry.shape)\n",
    "\n",
    "            gdf = gpd.GeoDataFrame(df2, crs=4326)\n",
    "            fn = os.path.join(tmpdir, f\"{quad_key}.geojson\")\n",
    "            tmp_fns.append(fn)\n",
    "            if not os.path.exists(fn):\n",
    "                gdf.to_file(fn, driver=\"GeoJSON\")\n",
    "        else:\n",
    "            raise ValueError(f\"QuadKey not found in dataset: {quad_key}\")\n",
    "\n",
    "    # Merge the GeoJSON files into a single file\n",
    "    for fn in tmp_fns:\n",
    "        with fiona.open(fn, \"r\") as f:\n",
    "            for row in tqdm(f):\n",
    "                row = dict(row)\n",
    "                shape = shapely.geometry.shape(row[\"geometry\"])\n",
    "\n",
    "                if aoi_shape.contains(shape):\n",
    "                    if \"id\" in row:\n",
    "                        del row[\"id\"]\n",
    "                    row[\"properties\"] = {\"id\": idx}\n",
    "                    idx += 1\n",
    "                    combined_rows.append(row)"
   ]
  },
  {
   "cell_type": "code",
   "execution_count": 41,
   "id": "5288dbbc",
   "metadata": {},
   "outputs": [],
   "source": [
    "\n",
    "schema = {\"geometry\": \"Polygon\", \"properties\": {\"id\": \"int\"}}\n",
    "\n",
    "with fiona.open(output_fn, \"w\", driver=\"GeoJSON\", schema=schema) as f:\n",
    "    f.writerecords(combined_rows)\n",
    "     "
   ]
  },
  {
   "cell_type": "code",
   "execution_count": 39,
   "id": "f2931389",
   "metadata": {},
   "outputs": [
    {
     "ename": "KeyError",
     "evalue": "'id'",
     "output_type": "error",
     "traceback": [
      "\u001b[1;31m---------------------------------------------------------------------------\u001b[0m",
      "\u001b[1;31mKeyError\u001b[0m                                  Traceback (most recent call last)",
      "Input \u001b[1;32mIn [39]\u001b[0m, in \u001b[0;36m<cell line: 10>\u001b[1;34m()\u001b[0m\n\u001b[0;32m      7\u001b[0m schema \u001b[38;5;241m=\u001b[39m {\u001b[38;5;124m\"\u001b[39m\u001b[38;5;124mgeometry\u001b[39m\u001b[38;5;124m\"\u001b[39m: \u001b[38;5;124m\"\u001b[39m\u001b[38;5;124mPolygon\u001b[39m\u001b[38;5;124m\"\u001b[39m, \u001b[38;5;124m\"\u001b[39m\u001b[38;5;124mproperties\u001b[39m\u001b[38;5;124m\"\u001b[39m: {\u001b[38;5;124m\"\u001b[39m\u001b[38;5;124mid\u001b[39m\u001b[38;5;124m\"\u001b[39m: \u001b[38;5;124m\"\u001b[39m\u001b[38;5;124mint\u001b[39m\u001b[38;5;124m\"\u001b[39m}}\n\u001b[0;32m      9\u001b[0m \u001b[38;5;66;03m# Convert the rows to a list of GeoJSON features\u001b[39;00m\n\u001b[1;32m---> 10\u001b[0m features \u001b[38;5;241m=\u001b[39m [{\u001b[38;5;124m\"\u001b[39m\u001b[38;5;124mtype\u001b[39m\u001b[38;5;124m\"\u001b[39m: \u001b[38;5;124m\"\u001b[39m\u001b[38;5;124mFeature\u001b[39m\u001b[38;5;124m\"\u001b[39m, \u001b[38;5;124m\"\u001b[39m\u001b[38;5;124mgeometry\u001b[39m\u001b[38;5;124m\"\u001b[39m: row[\u001b[38;5;124m\"\u001b[39m\u001b[38;5;124mgeometry\u001b[39m\u001b[38;5;124m\"\u001b[39m], \u001b[38;5;124m\"\u001b[39m\u001b[38;5;124mproperties\u001b[39m\u001b[38;5;124m\"\u001b[39m: {\u001b[38;5;124m\"\u001b[39m\u001b[38;5;124mid\u001b[39m\u001b[38;5;124m\"\u001b[39m: row[\u001b[38;5;124m\"\u001b[39m\u001b[38;5;124mid\u001b[39m\u001b[38;5;124m\"\u001b[39m]}} \u001b[38;5;28;01mfor\u001b[39;00m row \u001b[38;5;129;01min\u001b[39;00m combined_rows]\n\u001b[0;32m     12\u001b[0m \u001b[38;5;66;03m# Create a GeoJSON feature collection\u001b[39;00m\n\u001b[0;32m     13\u001b[0m feature_collection \u001b[38;5;241m=\u001b[39m {\u001b[38;5;124m\"\u001b[39m\u001b[38;5;124mtype\u001b[39m\u001b[38;5;124m\"\u001b[39m: \u001b[38;5;124m\"\u001b[39m\u001b[38;5;124mFeatureCollection\u001b[39m\u001b[38;5;124m\"\u001b[39m, \u001b[38;5;124m\"\u001b[39m\u001b[38;5;124mfeatures\u001b[39m\u001b[38;5;124m\"\u001b[39m: features}\n",
      "Input \u001b[1;32mIn [39]\u001b[0m, in \u001b[0;36m<listcomp>\u001b[1;34m(.0)\u001b[0m\n\u001b[0;32m      7\u001b[0m schema \u001b[38;5;241m=\u001b[39m {\u001b[38;5;124m\"\u001b[39m\u001b[38;5;124mgeometry\u001b[39m\u001b[38;5;124m\"\u001b[39m: \u001b[38;5;124m\"\u001b[39m\u001b[38;5;124mPolygon\u001b[39m\u001b[38;5;124m\"\u001b[39m, \u001b[38;5;124m\"\u001b[39m\u001b[38;5;124mproperties\u001b[39m\u001b[38;5;124m\"\u001b[39m: {\u001b[38;5;124m\"\u001b[39m\u001b[38;5;124mid\u001b[39m\u001b[38;5;124m\"\u001b[39m: \u001b[38;5;124m\"\u001b[39m\u001b[38;5;124mint\u001b[39m\u001b[38;5;124m\"\u001b[39m}}\n\u001b[0;32m      9\u001b[0m \u001b[38;5;66;03m# Convert the rows to a list of GeoJSON features\u001b[39;00m\n\u001b[1;32m---> 10\u001b[0m features \u001b[38;5;241m=\u001b[39m [{\u001b[38;5;124m\"\u001b[39m\u001b[38;5;124mtype\u001b[39m\u001b[38;5;124m\"\u001b[39m: \u001b[38;5;124m\"\u001b[39m\u001b[38;5;124mFeature\u001b[39m\u001b[38;5;124m\"\u001b[39m, \u001b[38;5;124m\"\u001b[39m\u001b[38;5;124mgeometry\u001b[39m\u001b[38;5;124m\"\u001b[39m: row[\u001b[38;5;124m\"\u001b[39m\u001b[38;5;124mgeometry\u001b[39m\u001b[38;5;124m\"\u001b[39m], \u001b[38;5;124m\"\u001b[39m\u001b[38;5;124mproperties\u001b[39m\u001b[38;5;124m\"\u001b[39m: {\u001b[38;5;124m\"\u001b[39m\u001b[38;5;124mid\u001b[39m\u001b[38;5;124m\"\u001b[39m: \u001b[43mrow\u001b[49m\u001b[43m[\u001b[49m\u001b[38;5;124;43m\"\u001b[39;49m\u001b[38;5;124;43mid\u001b[39;49m\u001b[38;5;124;43m\"\u001b[39;49m\u001b[43m]\u001b[49m}} \u001b[38;5;28;01mfor\u001b[39;00m row \u001b[38;5;129;01min\u001b[39;00m combined_rows]\n\u001b[0;32m     12\u001b[0m \u001b[38;5;66;03m# Create a GeoJSON feature collection\u001b[39;00m\n\u001b[0;32m     13\u001b[0m feature_collection \u001b[38;5;241m=\u001b[39m {\u001b[38;5;124m\"\u001b[39m\u001b[38;5;124mtype\u001b[39m\u001b[38;5;124m\"\u001b[39m: \u001b[38;5;124m\"\u001b[39m\u001b[38;5;124mFeatureCollection\u001b[39m\u001b[38;5;124m\"\u001b[39m, \u001b[38;5;124m\"\u001b[39m\u001b[38;5;124mfeatures\u001b[39m\u001b[38;5;124m\"\u001b[39m: features}\n",
      "\u001b[1;31mKeyError\u001b[0m: 'id'"
     ]
    }
   ],
   "source": [
    "import json\n",
    "\n",
    "# Define the output file name\n",
    "output_fn = \"output.geojson\"\n",
    "\n",
    "# Define the schema for the output file\n",
    "schema = {\"geometry\": \"Polygon\", \"properties\": {\"id\": \"int\"}}\n",
    "\n",
    "# Convert the rows to a list of GeoJSON features\n",
    "features = [{\"type\": \"Feature\", \"geometry\": row[\"geometry\"], \"properties\": {\"id\": row[\"id\"]}} for row in combined_rows]\n",
    "\n",
    "# Create a GeoJSON feature collection\n",
    "feature_collection = {\"type\": \"FeatureCollection\", \"features\": features}\n",
    "\n",
    "# Write the feature collection to a file\n",
    "with open(output_fn, \"w\") as f:\n",
    "    json.dump(feature_collection, f)"
   ]
  },
  {
   "cell_type": "code",
   "execution_count": null,
   "id": "26e06b74",
   "metadata": {},
   "outputs": [],
   "source": []
  }
 ],
 "metadata": {
  "kernelspec": {
   "display_name": "Python 3 (ipykernel)",
   "language": "python",
   "name": "python3"
  },
  "language_info": {
   "codemirror_mode": {
    "name": "ipython",
    "version": 3
   },
   "file_extension": ".py",
   "mimetype": "text/x-python",
   "name": "python",
   "nbconvert_exporter": "python",
   "pygments_lexer": "ipython3",
   "version": "3.9.12"
  }
 },
 "nbformat": 4,
 "nbformat_minor": 5
}
