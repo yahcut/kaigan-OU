{
 "cells": [
  {
   "cell_type": "code",
   "execution_count": 8,
   "id": "83ea51f5",
   "metadata": {},
   "outputs": [],
   "source": [
    "import numpy as np\n"
   ]
  },
  {
   "cell_type": "code",
   "execution_count": 9,
   "id": "7446f187",
   "metadata": {},
   "outputs": [],
   "source": [
    "# Define the extent and interval\n",
    "xmin, xmax, ymin, ymax = 0, 100, 20, 60\n",
    "interval = 10"
   ]
  },
  {
   "cell_type": "code",
   "execution_count": 10,
   "id": "3070de9b",
   "metadata": {},
   "outputs": [],
   "source": [
    "# Generate the grid points for the original grid\n",
    "x = np.arange(xmin, xmax + interval, interval)\n",
    "y = np.arange(ymin, ymax + interval, interval)\n",
    "X, Y = np.meshgrid(x, y)"
   ]
  },
  {
   "cell_type": "code",
   "execution_count": 11,
   "id": "fac0df8c",
   "metadata": {},
   "outputs": [],
   "source": [
    "# Generate the grid points for the nested grid\n",
    "x_half = np.arange(xmin + interval / 2, xmax, interval / 2)\n",
    "y_half = np.arange(ymin + interval / 2, ymax, interval / 2)\n",
    "X_half, Y_half = np.meshgrid(x_half, y_half)"
   ]
  },
  {
   "cell_type": "code",
   "execution_count": 12,
   "id": "86222b94",
   "metadata": {},
   "outputs": [],
   "source": [
    "# Combine the grid points into a single array\n",
    "points = np.vstack([X.ravel(), Y.ravel(), np.zeros_like(X.ravel())]).T\n",
    "points_half = np.vstack([X_half.ravel(), Y_half.ravel(), np.zeros_like(X_half.ravel())]).T"
   ]
  },
  {
   "cell_type": "code",
   "execution_count": 18,
   "id": "483d1f93",
   "metadata": {},
   "outputs": [],
   "source": [
    "# Filter out the points that do not intersect or touch\n",
    "mask = (points[:, 0] >= xmin) & (points[:, 0] <= xmax) & \\\n",
    "       (points[:, 1] >= ymin) & (points[:, 1] <= ymax)\n",
    "points = points[mask]\n",
    "\n",
    "mask_half = (points_half[:, 0] >= xmin) & (points_half[:, 0] <= xmax) & \\\n",
    "            (points_half[:, 1] >= ymin) & (points_half[:, 1] <= ymax) & \\\n",
    "            (points_half[:, 1] >= extent2[0, 1]) & (points_half[:, 1] <= extent2[1, 1])\n",
    "points_half = points_half[mask_half]\n",
    "\n"
   ]
  },
  {
   "cell_type": "code",
   "execution_count": 19,
   "id": "e72759fa",
   "metadata": {},
   "outputs": [],
   "source": [
    "np.savetxt('extent_point1.txt', points[:, :2], fmt='%d')\n",
    "np.savetxt('extent_point2.txt', points_half[:, :2], fmt='%d')"
   ]
  },
  {
   "cell_type": "code",
   "execution_count": 21,
   "id": "e3d611f7",
   "metadata": {},
   "outputs": [],
   "source": [
    "import numpy as np\n",
    "\n",
    "# Define the extent of the file\n",
    "xmin = 0\n",
    "xmax = 100\n",
    "ymin = 20\n",
    "ymax = 60\n",
    "\n",
    "# Define the interval between points\n",
    "interval = 10\n",
    "\n",
    "# Define the nested interval\n",
    "nested_interval = interval / 2\n",
    "\n",
    "# Create a meshgrid of points within the extent\n",
    "x, y = np.meshgrid(np.arange(xmin, xmax + nested_interval, nested_interval), np.arange(ymin, ymax + nested_interval, nested_interval))\n",
    "\n",
    "# Flatten the meshgrid and remove any points outside the extent\n",
    "points = np.column_stack((x.flatten(), y.flatten()))\n",
    "points = points[(points[:, 0] >= xmin) & (points[:, 0] <= xmax) & (points[:, 1] >= ymin) & (points[:, 1] <= ymax)]\n",
    "\n",
    "# Save the extent points to a text file\n",
    "extent_points = np.array([[xmin, ymin], [xmax, ymax]])\n",
    "np.savetxt('extent_points.txt', extent_points, fmt='%.2f', delimiter='\\t')\n",
    "\n",
    "# Save the points to a text file\n",
    "np.savetxt('points.txt', points, fmt='%.2f', delimiter='\\t')\n"
   ]
  },
  {
   "cell_type": "code",
   "execution_count": null,
   "id": "cf9c4855",
   "metadata": {},
   "outputs": [],
   "source": [
    "87.0000000000000000,0.0000000000000000 : 103.0000000000000000,15.0000000000000000\n",
    "\n",
    "#layer 1\n",
    "xmin=87\n",
    "xmax=103\n",
    "ymin=0\n",
    "ymax=15\n",
    "\n",
    "#layer 2\n",
    "xmin=91.216667\n",
    "xmax=97.783333\n",
    "ymin=2.416667\n",
    "ymax=13.183333\n",
    "\n",
    "#layer 3\n",
    "96.4500000000000028,3.5000000000000000 : 96.5000000000000000,3.5499999999999998\n",
    "xmin=94.5\n",
    "xmax=96.5\n",
    "ymin=3.5\n",
    "ymax=6.1\n",
    "\n",
    "#layer 4\n",
    "\n",
    "xmin=95.25\n",
    "xmax=95.4125\n",
    "ymin=5.5\n",
    "ymax=5.65\n",
    "\n",
    "#layer 5\n",
    "\n",
    "xmin=95.275\n",
    "xmax=95.375\n",
    "ymin=5.516667\n",
    "ymax=5.6125"
   ]
  },
  {
   "cell_type": "code",
   "execution_count": 3,
   "id": "27432187",
   "metadata": {},
   "outputs": [
    {
     "data": {
      "image/png": "[encoded data removed]",
      "text/plain": [
       "<Figure size 640x480 with 1 Axes>"
      ]
     },
     "metadata": {},
     "output_type": "display_data"
    }
   ],
   "source": [
    "import numpy as np\n",
    "import matplotlib.pyplot as plt\n",
    "\n",
    "# Define the extent of the grids\n",
    "extent1 = [87, 103, 0, 15]\n",
    "extent2 = [91.2, 97.8, 2.4, 13.2]\n",
    "extent3 = [94.5, 96.5, 3.5, 6.1]\n",
    "\n",
    "# Convert the interval of grid1 from arc seconds to degrees\n",
    "interval1 = 30 / 3600\n",
    "\n",
    "# Calculate the interval of grid2 as 1/4 of grid1\n",
    "interval2 = interval1 / 4\n",
    "\n",
    "# Calculate the interval of grid3 as 1/3 of grid2\n",
    "interval3 = interval2 / 2\n",
    "\n",
    "# Generate the grids using numpy.meshgrid()\n",
    "x1 = np.arange(extent1[0], extent1[1] + interval1, interval1)\n",
    "y1 = np.arange(extent1[2], extent1[3] + interval1, interval1)\n",
    "xx1, yy1 = np.meshgrid(x1, y1)\n",
    "\n",
    "#generate mesh grid 2\n",
    "x2 = np.arange(extent2[0], extent2[1] + interval2, interval2)\n",
    "y2 = np.arange(extent2[2], extent2[3] + interval2, interval2)\n",
    "xx2, yy2 = np.meshgrid(x2, y2)\n",
    "\n",
    "#generate mesh grid 3\n",
    "x3 = np.arange(extent3[0], extent3[1] + interval3, interval3)\n",
    "y3 = np.arange(extent3[2], extent3[3] + interval3, interval3)\n",
    "xx3, yy3 = np.meshgrid(x3, y3)\n",
    "\n",
    "\n",
    "# Plot the grids using matplotlib.pyplot.plot()\n",
    "fig, ax = plt.subplots()\n",
    "ax.plot(xx1, yy1, 'k', linewidth=0.5)\n",
    "ax.plot(xx1.T, yy1.T, 'k', linewidth=0.5)\n",
    "ax.plot(xx2, yy2, 'r', linewidth=0.5)\n",
    "ax.plot(xx2.T, yy2.T, 'r', linewidth=0.5)\n",
    "ax.plot(xx3, yy3, 'b', linewidth=0.5)\n",
    "ax.plot(xx3.T, yy3.T, 'b', linewidth=0.5)\n",
    "\n",
    "# Add labels to the plot\n",
    "ax.set_xlabel('Longitude (degrees)')\n",
    "ax.set_ylabel('Latitude (degrees)')\n",
    "ax.set_title('Nested Grid')\n",
    "\n",
    "# Show the plot\n",
    "plt.show()\n"
   ]
  },
  {
   "cell_type": "code",
   "execution_count": 4,
   "id": "117f6e96",
   "metadata": {},
   "outputs": [],
   "source": [
    "# Save the coordinates of grid1 to a text file\n",
    "#np.savetxt('grid1-baru.txt', np.c_[xx1.ravel(), yy1.ravel()], fmt='%.6f', delimiter='\\t')\n",
    "\n",
    "# Save the coordinates of grid2 to a text file\n",
    "#np.savetxt('grid2.txt', np.c_[xx2.ravel(), yy2.ravel()], fmt='%.6f', delimiter='\\t')\n",
    "\n",
    "# Save the coordinates of grid2 to a text file\n",
    "np.savetxt('grid3-2.txt', np.c_[xx3.ravel(), yy3.ravel()], fmt='%.6f', delimiter='\\t')"
   ]
  }
 ],
 "metadata": {
  "kernelspec": {
   "display_name": "Python 3 (ipykernel)",
   "language": "python",
   "name": "python3"
  },
  "language_info": {
   "codemirror_mode": {
    "name": "ipython",
    "version": 3
   },
   "file_extension": ".py",
   "mimetype": "text/x-python",
   "name": "python",
   "nbconvert_exporter": "python",
   "pygments_lexer": "ipython3",
   "version": "3.10.6"
  }
 },
 "nbformat": 4,
 "nbformat_minor": 5
}
